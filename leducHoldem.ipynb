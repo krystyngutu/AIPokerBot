{
  "cells": [
    {
      "cell_type": "markdown",
      "metadata": {
        "id": "h7CNCdgeqVFc"
      },
      "source": [
        "**Leduc Holdem**"
      ]
    },
    {
      "cell_type": "code",
      "execution_count": 1,
      "metadata": {
        "id": "L6vf3hIpnne6"
      },
      "outputs": [],
      "source": [
        "!pip install rlcard[torch]"
      ]
    },
    {
      "cell_type": "code",
      "execution_count": 2,
      "metadata": {
        "id": "_BjFFz81zuvR"
      },
      "outputs": [],
      "source": [
        "import subprocess\n",
        "import sys\n",
        "import rlcard\n",
        "from rlcard.agents import RandomAgent\n",
        "from rlcard.utils import tournament, Logger, plot_curve"
      ]
    },
    {
      "cell_type": "code",
      "execution_count": 3,
      "metadata": {
        "id": "XHFfPvPu23Tr"
      },
      "outputs": [],
      "source": [
        "def getGameName(isTexas):\n",
        "  return 'no-limit-holdem' if isTexas else 'leduc-holdem'\n",
        "\n",
        "IS_TEXAS = False\n",
        "GAME = getGameName(IS_TEXAS)"
      ]
    },
    {
      "cell_type": "code",
      "execution_count": 4,
      "metadata": {
        "id": "hxo-FFpvQJY0"
      },
      "outputs": [],
      "source": [
        "reqs = subprocess.check_output([sys.executable, '-m', 'pip', 'freeze'])\n",
        "installedPackages = [r.decode().split('==')[0] for r in reqs.split()]\n",
        "\n",
        "if 'torch' in installedPackages:\n",
        "  from rlcard.agents.dqn_agent import DQNAgent as DQNAgent\n",
        "  from rlcard.agents.nfsp_agent import NFSPAgent as NFSPAgent"
      ]
    },
    {
      "cell_type": "code",
      "execution_count": 5,
      "metadata": {
        "id": "ylEXR5Vc3WSe"
      },
      "outputs": [],
      "source": [
        "from rlcard.agents.cfr_agent import CFRAgent\n",
        "from rlcard.agents.human_agents.nolimit_holdem_human_agent import HumanAgent as NoLimitHoldemHumanAgent\n",
        "from rlcard.agents.human_agents.leduc_holdem_human_agent import HumanAgent as LeducHoldemHumanAgent\n",
        "\n",
        "def getAgent(isTexas):\n",
        "  return NoLimitHoldemHumanAgent if isTexas else LeducHoldemHumanAgent"
      ]
    },
    {
      "cell_type": "code",
      "execution_count": 33,
      "metadata": {
        "colab": {
          "base_uri": "https://localhost:8080/"
        },
        "id": "7wm0RMxl0pHN",
        "outputId": "34ee6a80-c6b8-43d2-ee4b-c8c53c3ab0f0"
      },
      "outputs": [
        {
          "name": "stdout",
          "output_type": "stream",
          "text": [
            "leduc-holdem\n"
          ]
        }
      ],
      "source": [
        "env = rlcard.make(GAME, config = {'allow_step_back': True})\n",
        "print (GAME)\n",
        "evalEnv = rlcard.make(GAME)"
      ]
    },
    {
      "cell_type": "code",
      "execution_count": 39,
      "metadata": {
        "id": "zAi_pVr3SmAT"
      },
      "outputs": [],
      "source": [
        "agent = RandomAgent(num_actions = env.num_actions)"
      ]
    },
    {
      "cell_type": "code",
      "execution_count": 40,
      "metadata": {
        "colab": {
          "base_uri": "https://localhost:8080/"
        },
        "id": "02K-1SV6762S",
        "outputId": "68453df2-2f33-405b-ba3a-6922ccb2efaa"
      },
      "outputs": [
        {
          "name": "stdout",
          "output_type": "stream",
          "text": [
            "[[{'legal_actions': OrderedDict([(1, None), (2, None), (3, None)]), 'obs': array([0., 1., 0., 0., 0., 0., 0., 0., 1., 0., 0., 0., 0., 0., 0., 0., 0.,\n",
            "       0., 0., 0., 0., 0., 0., 1., 0., 0., 0., 0., 0., 0., 0., 0., 0., 0.,\n",
            "       0., 0.]), 'raw_obs': {'hand': 'HQ', 'public_card': None, 'all_chips': [2, 2], 'my_chips': 2, 'legal_actions': ['raise', 'fold', 'check'], 'current_player': 0}, 'raw_legal_actions': ['raise', 'fold', 'check'], 'action_record': [(1, 'call'), (0, 'fold')]}, 2, {'legal_actions': OrderedDict([(1, None), (2, None), (3, None)]), 'obs': array([0., 1., 0., 0., 0., 0., 0., 0., 1., 0., 0., 0., 0., 0., 0., 0., 0.,\n",
            "       0., 0., 0., 0., 0., 0., 1., 0., 0., 0., 0., 0., 0., 0., 0., 0., 0.,\n",
            "       0., 0.]), 'raw_obs': {'hand': 'HQ', 'public_card': None, 'all_chips': [2, 2], 'my_chips': 2, 'legal_actions': ['raise', 'fold', 'check'], 'current_player': 1}, 'raw_legal_actions': ['raise', 'fold', 'check'], 'action_record': [(1, 'call'), (0, 'fold')]}], [{'legal_actions': OrderedDict([(0, None), (1, None), (2, None)]), 'obs': array([1., 0., 0., 0., 0., 0., 0., 1., 0., 0., 0., 0., 0., 0., 0., 0., 0.,\n",
            "       0., 0., 0., 0., 0., 0., 1., 0., 0., 0., 0., 0., 0., 0., 0., 0., 0.,\n",
            "       0., 0.]), 'raw_obs': {'hand': 'SJ', 'public_card': None, 'all_chips': [2, 1], 'my_chips': 1, 'legal_actions': ['call', 'raise', 'fold'], 'current_player': 1}, 'raw_legal_actions': ['call', 'raise', 'fold'], 'action_record': [(1, 'call'), (0, 'fold')]}, 0, {'legal_actions': OrderedDict([(1, None), (2, None), (3, None)]), 'obs': array([1., 0., 0., 0., 0., 0., 0., 0., 1., 0., 0., 0., 0., 0., 0., 0., 0.,\n",
            "       0., 0., 0., 0., 0., 0., 1., 0., 0., 0., 0., 0., 0., 0., 0., 0., 0.,\n",
            "       0., 0.]), 'raw_obs': {'hand': 'SJ', 'public_card': None, 'all_chips': [2, 2], 'my_chips': 2, 'legal_actions': ['raise', 'fold', 'check'], 'current_player': 1}, 'raw_legal_actions': ['raise', 'fold', 'check'], 'action_record': [(1, 'call'), (0, 'fold')]}]]\n"
          ]
        }
      ],
      "source": [
        "env.set_agents([agent for _ in range(env.num_players)])\n",
        "trajectories, playerWins = env.run(is_training = False)\n",
        "\n",
        "print(trajectories)"
      ]
    },
    {
      "cell_type": "code",
      "execution_count": 41,
      "metadata": {
        "colab": {
          "base_uri": "https://localhost:8080/"
        },
        "id": "--EXMRAdTIaC",
        "outputId": "15c76045-e1fe-4c23-8627-1dda38e1ed9e"
      },
      "outputs": [
        {
          "name": "stdout",
          "output_type": "stream",
          "text": [
            "[-1.  1.]\n"
          ]
        }
      ],
      "source": [
        "print(playerWins)"
      ]
    },
    {
      "cell_type": "code",
      "execution_count": 42,
      "metadata": {
        "id": "DVK9ZeghlNRl"
      },
      "outputs": [],
      "source": [
        "cfrAgent = CFRAgent(env, f\"experiments/{GAME.replace('-', '_')}_cfr_result/cfr_model\")\n",
        "cfrAgent.load()"
      ]
    },
    {
      "cell_type": "code",
      "execution_count": 43,
      "metadata": {
        "id": "Uq5q9Q76p3iI"
      },
      "outputs": [],
      "source": [
        "evalEnv.set_agents([cfrAgent, RandomAgent(num_actions = env.num_actions)])"
      ]
    },
    {
      "cell_type": "code",
      "execution_count": 45,
      "metadata": {
        "colab": {
          "base_uri": "https://localhost:8080/"
        },
        "id": "DqViSdCK8F7k",
        "outputId": "0c262423-e129-4fb9-b849-0af764540e6f"
      },
      "outputs": [
        {
          "name": "stdout",
          "output_type": "stream",
          "text": [
            "Iteration 0\n",
            "----------------------------------------\n",
            "  episode      |  194\n",
            "  reward       |  -0.00135\n",
            "----------------------------------------\n",
            "Iteration 50\n",
            "----------------------------------------\n",
            "  episode      |  9794\n",
            "  reward       |  0.6315\n",
            "----------------------------------------\n",
            "Iteration 100\n",
            "----------------------------------------\n",
            "  episode      |  19394\n",
            "  reward       |  0.6843\n",
            "----------------------------------------\n",
            "Iteration 150\n",
            "----------------------------------------\n",
            "  episode      |  28994\n",
            "  reward       |  0.7408\n",
            "----------------------------------------\n",
            "Iteration 200\n",
            "----------------------------------------\n",
            "  episode      |  38594\n",
            "  reward       |  0.76645\n",
            "----------------------------------------\n",
            "Iteration 250\n",
            "----------------------------------------\n",
            "  episode      |  48194\n",
            "  reward       |  0.76495\n",
            "----------------------------------------\n",
            "Iteration 300\n",
            "----------------------------------------\n",
            "  episode      |  57794\n",
            "  reward       |  0.77095\n",
            "----------------------------------------\n",
            "Iteration 350\n",
            "----------------------------------------\n",
            "  episode      |  67394\n",
            "  reward       |  0.7842\n",
            "----------------------------------------\n",
            "Iteration 400\n",
            "----------------------------------------\n",
            "  episode      |  76994\n",
            "  reward       |  0.83845\n",
            "----------------------------------------\n",
            "Iteration 450\n",
            "----------------------------------------\n",
            "  episode      |  86594\n",
            "  reward       |  0.84335\n",
            "----------------------------------------\n",
            "Iteration 500\n",
            "----------------------------------------\n",
            "  episode      |  96194\n",
            "  reward       |  0.81395\n",
            "----------------------------------------\n",
            "Iteration 550\n",
            "----------------------------------------\n",
            "  episode      |  105794\n",
            "  reward       |  0.7798\n",
            "----------------------------------------\n",
            "Iteration 600\n",
            "----------------------------------------\n",
            "  episode      |  115394\n",
            "  reward       |  0.78535\n",
            "----------------------------------------\n",
            "Iteration 650\n",
            "----------------------------------------\n",
            "  episode      |  124994\n",
            "  reward       |  0.80535\n",
            "----------------------------------------\n",
            "Iteration 700\n",
            "----------------------------------------\n",
            "  episode      |  134594\n",
            "  reward       |  0.8168\n",
            "----------------------------------------\n",
            "Iteration 750\n",
            "----------------------------------------\n",
            "  episode      |  144194\n",
            "  reward       |  0.792\n",
            "----------------------------------------\n",
            "Iteration 800\n",
            "----------------------------------------\n",
            "  episode      |  153794\n",
            "  reward       |  0.79985\n",
            "----------------------------------------\n",
            "Iteration 850\n",
            "----------------------------------------\n",
            "  episode      |  163394\n",
            "  reward       |  0.8044\n",
            "----------------------------------------\n",
            "Iteration 900\n",
            "----------------------------------------\n",
            "  episode      |  172994\n",
            "  reward       |  0.808\n",
            "----------------------------------------\n",
            "Iteration 950\n",
            "----------------------------------------\n",
            "  episode      |  182594\n",
            "  reward       |  0.79985\n",
            "----------------------------------------\n",
            "Iteration 999\n",
            "Logs saved in experiments/leduc_holdem_cfr_result\n",
            "Model file saved to: experiments/leduc_holdem_cfr_result/model.path\n"
          ]
        }
      ],
      "source": [
        "import os\n",
        "import torch\n",
        "\n",
        "with Logger(f\"experiments/{GAME.replace('-', '_')}_cfr_result\") as logger:\n",
        "  for episode in range(1000):\n",
        "    cfrAgent.train()\n",
        "    print('\\rIteration {}'.format(episode), end = '')\n",
        "\n",
        "    if episode % 50 == 0:\n",
        "      logger.log_performance(env.timestep, tournament(evalEnv, 10000)[0])\n",
        "\n",
        "  csvPath, figPath = logger.csv_path, logger.fig_path\n",
        "\n",
        "modelOutputPath = os.path.join(logger.log_dir, 'model.path')\n",
        "torch.save(agent, modelOutputPath)\n",
        "print(f\"Model file saved to: {modelOutputPath}\")"
      ]
    },
    {
      "cell_type": "code",
      "execution_count": 12,
      "metadata": {
        "id": "COYXAiVXRxwL"
      },
      "outputs": [],
      "source": [
        "from rlcard.agents import LeducholdemHumanAgent as HumanAgent"
      ]
    },
    {
      "cell_type": "code",
      "execution_count": 46,
      "metadata": {
        "colab": {
          "base_uri": "https://localhost:8080/",
          "height": 485
        },
        "id": "RzFV1EsI6n3w",
        "outputId": "c9b45785-4316-4996-ff17-7612e4752335"
      },
      "outputs": [
        {
          "name": "stdout",
          "output_type": "stream",
          "text": [
            "CSV Path:  experiments/leduc_holdem_cfr_result/performance.csv\n",
            "Fig Path:  experiments/leduc_holdem_cfr_result/fig.png\n"
          ]
        },
        {
          "data": {
            "image/png": "[encoded data removed]",
            "text/plain": [
              "<Figure size 640x480 with 1 Axes>"
            ]
          },
          "metadata": {},
          "output_type": "display_data"
        }
      ],
      "source": [
        "plot_curve(csvPath, figPath, 'cfr')\n",
        "print(\"CSV Path: \", csvPath)\n",
        "print(\"Fig Path: \", figPath)"
      ]
    },
    {
      "cell_type": "code",
      "execution_count": 14,
      "metadata": {
        "id": "KFbxb6uo2gyM"
      },
      "outputs": [],
      "source": [
        "agent = RandomAgent(num_actions = env.num_actions)\n",
        "env.set_agents([agent for _ in range(env.num_players)])"
      ]
    },
    {
      "cell_type": "code",
      "execution_count": 15,
      "metadata": {
        "id": "BphXKY0Z5sv1"
      },
      "outputs": [],
      "source": [
        "trajectories, playerWins = env.run(is_training = False)"
      ]
    },
    {
      "cell_type": "code",
      "execution_count": 16,
      "metadata": {
        "colab": {
          "base_uri": "https://localhost:8080/"
        },
        "id": "Mn2J8_2H1u0s",
        "outputId": "e0d18e0b-304e-41f8-a501-36793cb35f26"
      },
      "outputs": [
        {
          "name": "stdout",
          "output_type": "stream",
          "text": [
            "[[{'legal_actions': OrderedDict([(0, None), (1, None), (2, None)]), 'obs': array([0., 1., 0., 0., 0., 0., 0., 1., 0., 0., 0., 0., 0., 0., 0., 0., 0.,\n",
            "       0., 0., 0., 0., 0., 0., 1., 0., 0., 0., 0., 0., 0., 0., 0., 0., 0.,\n",
            "       0., 0.]), 'raw_obs': {'hand': 'HQ', 'public_card': None, 'all_chips': [1, 2], 'my_chips': 1, 'legal_actions': ['call', 'raise', 'fold'], 'current_player': 0}, 'raw_legal_actions': ['call', 'raise', 'fold'], 'action_record': [(0, 'raise'), (1, 'call'), (0, 'fold')]}, 1, {'legal_actions': OrderedDict([(1, None), (2, None), (3, None)]), 'obs': array([0., 1., 0., 0., 0., 1., 0., 0., 0., 0., 1., 0., 0., 0., 0., 0., 0.,\n",
            "       0., 0., 0., 0., 0., 0., 0., 0., 1., 0., 0., 0., 0., 0., 0., 0., 0.,\n",
            "       0., 0.]), 'raw_obs': {'hand': 'HQ', 'public_card': 'HK', 'all_chips': [4, 4], 'my_chips': 4, 'legal_actions': ['raise', 'fold', 'check'], 'current_player': 0}, 'raw_legal_actions': ['raise', 'fold', 'check'], 'action_record': [(0, 'raise'), (1, 'call'), (0, 'fold')]}, 2, {'legal_actions': OrderedDict([(1, None), (2, None), (3, None)]), 'obs': array([0., 1., 0., 0., 0., 1., 0., 0., 0., 0., 1., 0., 0., 0., 0., 0., 0.,\n",
            "       0., 0., 0., 0., 0., 0., 0., 0., 1., 0., 0., 0., 0., 0., 0., 0., 0.,\n",
            "       0., 0.]), 'raw_obs': {'hand': 'HQ', 'public_card': 'HK', 'all_chips': [4, 4], 'my_chips': 4, 'legal_actions': ['raise', 'fold', 'check'], 'current_player': 1}, 'raw_legal_actions': ['raise', 'fold', 'check'], 'action_record': [(0, 'raise'), (1, 'call'), (0, 'fold')]}], [{'legal_actions': OrderedDict([(0, None), (1, None), (2, None)]), 'obs': array([1., 0., 0., 0., 0., 0., 0., 0., 1., 0., 0., 0., 0., 0., 0., 0., 0.,\n",
            "       0., 0., 0., 0., 0., 0., 0., 0., 1., 0., 0., 0., 0., 0., 0., 0., 0.,\n",
            "       0., 0.]), 'raw_obs': {'hand': 'SJ', 'public_card': None, 'all_chips': [4, 2], 'my_chips': 2, 'legal_actions': ['call', 'raise', 'fold'], 'current_player': 1}, 'raw_legal_actions': ['call', 'raise', 'fold'], 'action_record': [(0, 'raise'), (1, 'call'), (0, 'fold')]}, 0, {'legal_actions': OrderedDict([(1, None), (2, None), (3, None)]), 'obs': array([1., 0., 0., 0., 0., 1., 0., 0., 0., 0., 1., 0., 0., 0., 0., 0., 0.,\n",
            "       0., 0., 0., 0., 0., 0., 0., 0., 1., 0., 0., 0., 0., 0., 0., 0., 0.,\n",
            "       0., 0.]), 'raw_obs': {'hand': 'SJ', 'public_card': 'HK', 'all_chips': [4, 4], 'my_chips': 4, 'legal_actions': ['raise', 'fold', 'check'], 'current_player': 1}, 'raw_legal_actions': ['raise', 'fold', 'check'], 'action_record': [(0, 'raise'), (1, 'call'), (0, 'fold')]}]]\n"
          ]
        }
      ],
      "source": [
        "print(trajectories)"
      ]
    },
    {
      "cell_type": "code",
      "execution_count": 17,
      "metadata": {
        "colab": {
          "base_uri": "https://localhost:8080/"
        },
        "id": "oiZcLqFh55sK",
        "outputId": "904de283-d7f9-4a20-b5ce-eac6a39f7000"
      },
      "outputs": [
        {
          "name": "stdout",
          "output_type": "stream",
          "text": [
            "[-2.  2.]\n"
          ]
        }
      ],
      "source": [
        "print(playerWins)"
      ]
    },
    {
      "cell_type": "code",
      "execution_count": 72,
      "metadata": {
        "id": "dq_zxiWIbmEE"
      },
      "outputs": [],
      "source": [
        "def createEnvForUser(game, unloadedAgent):\n",
        "  env = rlcard.make(game)\n",
        "  print(game)\n",
        "  humanAgent = HumanAgent(env.num_actions)\n",
        "  cfrAgent = unloadedAgent\n",
        "  cfrAgent.load()\n",
        "  print(cfrAgent.get_state(0))\n",
        "  env.set_agents([humanAgent, cfrAgent])\n",
        "  return env"
      ]
    },
    {
      "cell_type": "code",
      "execution_count": 73,
      "metadata": {
        "colab": {
          "base_uri": "https://localhost:8080/"
        },
        "id": "4esCMXirV5-H",
        "outputId": "ae3ff007-616c-4bef-c603-59a25e10b623"
      },
      "outputs": [
        {
          "name": "stdout",
          "output_type": "stream",
          "text": [
            "experiments/leduc_holdem_cfr_result/cfr_model\n",
            "leduc-holdem\n",
            "(b'\\x00\\x00\\x00\\x00\\x00\\x00\\x00\\x00\\x00\\x00\\x00\\x00\\x00\\x00\\x00\\x00\\x00\\x00\\x00\\x00\\x00\\x00\\xf0?\\x00\\x00\\x00\\x00\\x00\\x00\\x00\\x00\\x00\\x00\\x00\\x00\\x00\\x00\\x00\\x00\\x00\\x00\\x00\\x00\\x00\\x00\\x00\\x00\\x00\\x00\\x00\\x00\\x00\\x00\\x00\\x00\\x00\\x00\\x00\\x00\\x00\\x00\\xf0?\\x00\\x00\\x00\\x00\\x00\\x00\\x00\\x00\\x00\\x00\\x00\\x00\\x00\\x00\\x00\\x00\\x00\\x00\\x00\\x00\\x00\\x00\\x00\\x00\\x00\\x00\\x00\\x00\\x00\\x00\\x00\\x00\\x00\\x00\\x00\\x00\\x00\\x00\\x00\\x00\\x00\\x00\\x00\\x00\\x00\\x00\\x00\\x00\\x00\\x00\\x00\\x00\\x00\\x00\\x00\\x00\\x00\\x00\\x00\\x00\\x00\\x00\\x00\\x00\\x00\\x00\\x00\\x00\\x00\\x00\\x00\\x00\\x00\\x00\\x00\\x00\\x00\\x00\\x00\\x00\\x00\\x00\\x00\\x00\\x00\\x00\\x00\\x00\\x00\\x00\\x00\\x00\\x00\\x00\\x00\\x00\\x00\\x00\\x00\\x00\\x00\\x00\\x00\\x00\\x00\\x00\\x00\\x00\\x00\\x00\\x00\\x00\\x00\\x00\\x00\\x00\\x00\\x00\\x00\\x00\\x00\\x00\\x00\\x00\\x00\\x00\\xf0?\\x00\\x00\\x00\\x00\\x00\\x00\\x00\\x00\\x00\\x00\\x00\\x00\\x00\\x00\\x00\\x00\\x00\\x00\\x00\\x00\\x00\\x00\\x00\\x00\\x00\\x00\\x00\\x00\\x00\\x00\\x00\\x00\\x00\\x00\\x00\\x00\\x00\\x00\\x00\\x00\\x00\\x00\\x00\\x00\\x00\\x00\\x00\\x00\\x00\\x00\\x00\\x00\\x00\\x00\\x00\\x00\\x00\\x00\\x00\\x00\\x00\\x00\\x00\\x00\\x00\\x00\\x00\\x00\\x00\\x00\\x00\\x00\\x00\\x00\\x00\\x00\\x00\\x00\\x00\\x00\\x00\\x00\\x00\\x00\\x00\\x00\\x00\\x00\\x00\\x00\\x00\\x00\\x00\\x00\\x00\\x00', [0, 1, 2])\n",
            "(b'\\x00\\x00\\x00\\x00\\x00\\x00\\x00\\x00\\x00\\x00\\x00\\x00\\x00\\x00\\x00\\x00\\x00\\x00\\x00\\x00\\x00\\x00\\xf0?\\x00\\x00\\x00\\x00\\x00\\x00\\x00\\x00\\x00\\x00\\x00\\x00\\x00\\x00\\x00\\x00\\x00\\x00\\x00\\x00\\x00\\x00\\x00\\x00\\x00\\x00\\x00\\x00\\x00\\x00\\x00\\x00\\x00\\x00\\x00\\x00\\x00\\x00\\xf0?\\x00\\x00\\x00\\x00\\x00\\x00\\x00\\x00\\x00\\x00\\x00\\x00\\x00\\x00\\x00\\x00\\x00\\x00\\x00\\x00\\x00\\x00\\x00\\x00\\x00\\x00\\x00\\x00\\x00\\x00\\x00\\x00\\x00\\x00\\x00\\x00\\x00\\x00\\x00\\x00\\x00\\x00\\x00\\x00\\x00\\x00\\x00\\x00\\x00\\x00\\x00\\x00\\x00\\x00\\x00\\x00\\x00\\x00\\x00\\x00\\x00\\x00\\x00\\x00\\x00\\x00\\x00\\x00\\x00\\x00\\x00\\x00\\x00\\x00\\x00\\x00\\x00\\x00\\x00\\x00\\x00\\x00\\x00\\x00\\x00\\x00\\x00\\x00\\x00\\x00\\x00\\x00\\x00\\x00\\x00\\x00\\x00\\x00\\x00\\x00\\x00\\x00\\x00\\x00\\x00\\x00\\x00\\x00\\x00\\x00\\x00\\x00\\x00\\x00\\x00\\x00\\x00\\x00\\x00\\x00\\x00\\x00\\x00\\x00\\x00\\x00\\xf0?\\x00\\x00\\x00\\x00\\x00\\x00\\x00\\x00\\x00\\x00\\x00\\x00\\x00\\x00\\x00\\x00\\x00\\x00\\x00\\x00\\x00\\x00\\x00\\x00\\x00\\x00\\x00\\x00\\x00\\x00\\x00\\x00\\x00\\x00\\x00\\x00\\x00\\x00\\x00\\x00\\x00\\x00\\x00\\x00\\x00\\x00\\x00\\x00\\x00\\x00\\x00\\x00\\x00\\x00\\x00\\x00\\x00\\x00\\x00\\x00\\x00\\x00\\x00\\x00\\x00\\x00\\x00\\x00\\x00\\x00\\x00\\x00\\x00\\x00\\x00\\x00\\x00\\x00\\x00\\x00\\x00\\x00\\x00\\x00\\x00\\x00\\x00\\x00\\x00\\x00\\x00\\x00\\x00\\x00\\x00\\x00', [0, 1, 2])\n"
          ]
        }
      ],
      "source": [
        "from rlcard.utils import print_card\n",
        "from rlcard import models\n",
        "\n",
        "print(cfrAgent.model_path)\n",
        "gameEnv = createEnvForUser(getGameName(IS_TEXAS), cfrAgent)\n",
        "print(cfrAgent.get_state(0))\n"
      ]
    },
    {
      "cell_type": "code",
      "execution_count": null,
      "metadata": {
        "colab": {
          "base_uri": "https://localhost:8080/"
        },
        "id": "mGWKuO0VWoUr",
        "outputId": "de85713d-1199-414b-ef3a-2f20498ec624"
      },
      "outputs": [
        {
          "name": "stdout",
          "output_type": "stream",
          "text": [
            ">> Leduc Hold'em pre-trained model\n",
            "leduc-holdem\n",
            ">> Start a new game\n",
            "\n",
            "=============== Community Card ===============\n",
            "┌─────────┐\n",
            "│░░░░░░░░░│\n",
            "│░░░░░░░░░│\n",
            "│░░░░░░░░░│\n",
            "│░░░░░░░░░│\n",
            "│░░░░░░░░░│\n",
            "│░░░░░░░░░│\n",
            "│░░░░░░░░░│\n",
            "└─────────┘\n",
            "===============   Your Hand    ===============\n",
            "┌─────────┐\n",
            "│K        │\n",
            "│         │\n",
            "│         │\n",
            "│    ♥    │\n",
            "│         │\n",
            "│         │\n",
            "│        K│\n",
            "└─────────┘\n",
            "===============     Chips      ===============\n",
            "Yours:   +\n",
            "Agent 1: ++\n",
            "=========== Actions You Can Choose ===========\n",
            "0: call, 1: raise, 2: fold\n",
            "\n",
            ">> You choose action (integer): 1\n",
            ">> Player 1 chooses call\n",
            "\n",
            "=============== Community Card ===============\n",
            "┌─────────┐\n",
            "│K        │\n",
            "│         │\n",
            "│         │\n",
            "│    ♠    │\n",
            "│         │\n",
            "│         │\n",
            "│        K│\n",
            "└─────────┘\n",
            "===============   Your Hand    ===============\n",
            "┌─────────┐\n",
            "│K        │\n",
            "│         │\n",
            "│         │\n",
            "│    ♥    │\n",
            "│         │\n",
            "│         │\n",
            "│        K│\n",
            "└─────────┘\n",
            "===============     Chips      ===============\n",
            "Yours:   ++++\n",
            "Agent 1: ++++\n",
            "=========== Actions You Can Choose ===========\n",
            "0: raise, 1: fold, 2: check\n",
            "\n",
            ">> You choose action (integer): 0\n",
            ">> Player 1 chooses call\n",
            "===============     CFR Agent    ===============\n",
            "┌─────────┐\n",
            "│Q        │\n",
            "│         │\n",
            "│         │\n",
            "│    ♠    │\n",
            "│         │\n",
            "│         │\n",
            "│        Q│\n",
            "└─────────┘\n",
            "===============     Result     ===============\n",
            "You win 4.0 chips!\n",
            "\n",
            "Press any key to continue, Q to exit\n",
            "\n",
            ">> Start a new game\n",
            ">> Player 1 chooses call\n",
            "\n",
            "=============== Community Card ===============\n",
            "┌─────────┐\n",
            "│░░░░░░░░░│\n",
            "│░░░░░░░░░│\n",
            "│░░░░░░░░░│\n",
            "│░░░░░░░░░│\n",
            "│░░░░░░░░░│\n",
            "│░░░░░░░░░│\n",
            "│░░░░░░░░░│\n",
            "└─────────┘\n",
            "===============   Your Hand    ===============\n",
            "┌─────────┐\n",
            "│J        │\n",
            "│         │\n",
            "│         │\n",
            "│    ♥    │\n",
            "│         │\n",
            "│         │\n",
            "│        J│\n",
            "└─────────┘\n",
            "===============     Chips      ===============\n",
            "Yours:   ++\n",
            "Agent 1: ++\n",
            "=========== Actions You Can Choose ===========\n",
            "0: raise, 1: fold, 2: check\n",
            "\n",
            ">> You choose action (integer): 0\n",
            ">> Player 1 chooses call\n",
            "\n",
            "=============== Community Card ===============\n",
            "┌─────────┐\n",
            "│Q        │\n",
            "│         │\n",
            "│         │\n",
            "│    ♠    │\n",
            "│         │\n",
            "│         │\n",
            "│        Q│\n",
            "└─────────┘\n",
            "===============   Your Hand    ===============\n",
            "┌─────────┐\n",
            "│J        │\n",
            "│         │\n",
            "│         │\n",
            "│    ♥    │\n",
            "│         │\n",
            "│         │\n",
            "│        J│\n",
            "└─────────┘\n",
            "===============     Chips      ===============\n",
            "Yours:   ++++\n",
            "Agent 1: ++++\n",
            "=========== Actions You Can Choose ===========\n",
            "0: raise, 1: fold, 2: check\n",
            "\n",
            ">> You choose action (integer): 2\n",
            ">> Player 1 chooses raise\n",
            "\n",
            "=============== Community Card ===============\n",
            "┌─────────┐\n",
            "│Q        │\n",
            "│         │\n",
            "│         │\n",
            "│    ♠    │\n",
            "│         │\n",
            "│         │\n",
            "│        Q│\n",
            "└─────────┘\n",
            "===============   Your Hand    ===============\n",
            "┌─────────┐\n",
            "│J        │\n",
            "│         │\n",
            "│         │\n",
            "│    ♥    │\n",
            "│         │\n",
            "│         │\n",
            "│        J│\n",
            "└─────────┘\n",
            "===============     Chips      ===============\n",
            "Yours:   ++++\n",
            "Agent 1: ++++++++\n",
            "=========== Actions You Can Choose ===========\n",
            "0: call, 1: raise, 2: fold\n",
            "\n",
            ">> You choose action (integer): 0\n",
            ">> Player 0 chooses call\n",
            "===============     CFR Agent    ===============\n",
            "┌─────────┐\n",
            "│Q        │\n",
            "│         │\n",
            "│         │\n",
            "│    ♥    │\n",
            "│         │\n",
            "│         │\n",
            "│        Q│\n",
            "└─────────┘\n",
            "===============     Result     ===============\n",
            "You lose 4.0 chips!\n",
            "\n",
            "Press any key to continue, Q to exit\n",
            "\n",
            ">> Start a new game\n",
            ">> Player 1 chooses raise\n",
            "\n",
            "=============== Community Card ===============\n",
            "┌─────────┐\n",
            "│░░░░░░░░░│\n",
            "│░░░░░░░░░│\n",
            "│░░░░░░░░░│\n",
            "│░░░░░░░░░│\n",
            "│░░░░░░░░░│\n",
            "│░░░░░░░░░│\n",
            "│░░░░░░░░░│\n",
            "└─────────┘\n",
            "===============   Your Hand    ===============\n",
            "┌─────────┐\n",
            "│K        │\n",
            "│         │\n",
            "│         │\n",
            "│    ♥    │\n",
            "│         │\n",
            "│         │\n",
            "│        K│\n",
            "└─────────┘\n",
            "===============     Chips      ===============\n",
            "Yours:   ++\n",
            "Agent 1: ++++\n",
            "=========== Actions You Can Choose ===========\n",
            "0: call, 1: raise, 2: fold\n",
            "\n",
            ">> You choose action (integer): 1\n",
            ">> Player 1 chooses call\n",
            "\n",
            "=============== Community Card ===============\n",
            "┌─────────┐\n",
            "│J        │\n",
            "│         │\n",
            "│         │\n",
            "│    ♠    │\n",
            "│         │\n",
            "│         │\n",
            "│        J│\n",
            "└─────────┘\n",
            "===============   Your Hand    ===============\n",
            "┌─────────┐\n",
            "│K        │\n",
            "│         │\n",
            "│         │\n",
            "│    ♥    │\n",
            "│         │\n",
            "│         │\n",
            "│        K│\n",
            "└─────────┘\n",
            "===============     Chips      ===============\n",
            "Yours:   ++++++\n",
            "Agent 1: ++++++\n",
            "=========== Actions You Can Choose ===========\n",
            "0: raise, 1: fold, 2: check\n",
            "\n",
            ">> You choose action (integer): 0\n",
            ">> Player 1 chooses call\n",
            "===============     CFR Agent    ===============\n",
            "┌─────────┐\n",
            "│K        │\n",
            "│         │\n",
            "│         │\n",
            "│    ♠    │\n",
            "│         │\n",
            "│         │\n",
            "│        K│\n",
            "└─────────┘\n",
            "===============     Result     ===============\n",
            "It is a tie.\n",
            "\n"
          ]
        }
      ],
      "source": [
        "print(\">> Leduc Hold'em pre-trained model\")\n",
        "print(gameEnv.name)\n",
        "while (True):\n",
        "    print(\">> Start a new game\")\n",
        "\n",
        "    trajectories, payoffs = gameEnv.run(is_training=False)\n",
        "    # If the human does not take the final action, we need to\n",
        "    # print other players action\n",
        "    final_state = trajectories[0][-1]\n",
        "    action_record = final_state['action_record']\n",
        "    state = final_state['raw_obs']\n",
        "    _action_list = []\n",
        "    for i in range(1, len(action_record)+1):\n",
        "        if action_record[-i][0] == state['current_player']:\n",
        "            break\n",
        "        _action_list.insert(0, action_record[-i])\n",
        "    for pair in _action_list:\n",
        "        print('>> Player', pair[0], 'chooses', pair[1])\n",
        "\n",
        "    # Let's take a look at what the agent card is\n",
        "    print('===============     CFR Agent    ===============')\n",
        "    print_card(gameEnv.get_perfect_information()['hand_cards'][1])\n",
        "\n",
        "    print('===============     Result     ===============')\n",
        "    if payoffs[0] > 0:\n",
        "        print('You win {} chips!'.format(payoffs[0]))\n",
        "    elif payoffs[0] == 0:\n",
        "        print('It is a tie.')\n",
        "    else:\n",
        "        print('You lose {} chips!'.format(-payoffs[0]))\n",
        "    print('')\n",
        "\n",
        "    inputs = input(\"Press any key to continue, Q to exit\\n\")\n",
        "    if inputs.lower() == \"q\":\n",
        "      break"
      ]
    }
  ],
  "metadata": {
    "colab": {
      "provenance": []
    },
    "kernelspec": {
      "display_name": "Python 3",
      "name": "python3"
    },
    "language_info": {
      "name": "python"
    }
  },
  "nbformat": 4,
  "nbformat_minor": 0
}
